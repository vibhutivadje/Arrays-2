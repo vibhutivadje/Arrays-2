{
 "cells": [
  {
   "cell_type": "markdown",
   "metadata": {},
   "source": [
    "According to the Wikipedia's article: \"The Game of Life, also known simply as Life, is a cellular automaton devised \n",
    "by the British mathematician John Horton Conway in 1970.\"\n",
    "\n",
    "Given a board with m by n cells, each cell has an initial state live (1) or dead (0). Each cell interacts with its \n",
    "eight neighbors (horizontal, vertical, diagonal) using the following four rules (taken from the above Wikipedia \n",
    "                                                                                 article):\n",
    "\n",
    "Any live cell with fewer than two live neighbors dies, as if caused by under-population.\n",
    "Any live cell with two or three live neighbors lives on to the next generation.\n",
    "Any live cell with more than three live neighbors dies, as if by over-population..\n",
    "Any dead cell with exactly three live neighbors becomes a live cell, as if by reproduction.\n",
    "Write a function to compute the next state (after one update) of the board given its current state. \n",
    "\n",
    "The next state is created by applying the above rules simultaneously to every cell in the current state, \n",
    "where births and deaths occur simultaneously.\n",
    "\n",
    "Input: \n",
    "[\n",
    "  [0,1,0],\n",
    "  [0,0,1],\n",
    "  [1,1,1],\n",
    "  [0,0,0]\n",
    "]\n",
    "Output: \n",
    "[\n",
    "  [0,0,0],\n",
    "  [1,0,1],\n",
    "  [0,1,1],\n",
    "  [0,1,0]\n",
    "]"
   ]
  },
  {
   "cell_type": "markdown",
   "metadata": {},
   "source": [
    "# Problem: Game of Life\n",
    "Solution: https://leetcode.com/problems/game-of-life/"
   ]
  },
  {
   "cell_type": "code",
   "execution_count": 8,
   "metadata": {},
   "outputs": [
    {
     "name": "stdout",
     "output_type": "stream",
     "text": [
      "[[0, 0, 0], [1, 0, 1], [0, 1, 1], [0, 1, 0]]\n"
     ]
    }
   ],
   "source": [
    "class Solution(object):\n",
    "    def gameOfLife(self, board):\n",
    "        # Base cases\n",
    "        if board is None or len(board) is 0:\n",
    "            return\n",
    "\n",
    "        rows = len(board)\n",
    "        cols = len(board[0])\n",
    "\n",
    "        for i in range(rows):\n",
    "            for j in range(cols):\n",
    "                lives = self.countLives(i, j, board)\n",
    "                # Rule 1 and Rule 3:\n",
    "                if board[i][j] == 1 and (lives < 2 or lives > 3):\n",
    "                    board[i][j] = 2\n",
    "                # Rule 4\n",
    "                if board[i][j] == 0 and lives == 3:\n",
    "                    board[i][j] = 3\n",
    "\n",
    "        # for the final output, convert 2 -> 0, 3 -> 1\n",
    "        for i in range(rows):\n",
    "            for j in range(cols):\n",
    "                board[i][j] = board[i][j] % 2\n",
    "        return board\n",
    "\n",
    "    # Helper function\n",
    "    def countLives(self, row, col, board):\n",
    "        count = 0\n",
    "        rows = len(board)\n",
    "        cols = len(board[0])\n",
    "        directions = [[1, -1], [1, 0], [-1, -1], [-1, 0], [-1, 1], [0, -1], [0, 1], [1, 1]]\n",
    "        for dire in directions:\n",
    "            new_row = dire[0] + row\n",
    "            new_col = dire[1] + col\n",
    "            if new_row >= 0 and new_row < rows and new_col >= 0 and new_col < cols and (board[new_row][new_col] == 1 or\n",
    "                    board[new_row][new_col] == 2):\n",
    "                count += 1\n",
    "        return count\n",
    "\n",
    "\n",
    "obj = Solution()\n",
    "nums = [\n",
    "  [0,1,0],\n",
    "  [0,0,1],\n",
    "  [1,1,1],\n",
    "  [0,0,0]\n",
    "]\n",
    "print(obj.gameOfLife(nums))\n",
    "\n",
    "#Time Complexity: O(M*N), where M is the number of rows and N is the number of columns of the Board.\n",
    "#Space Complexity: O(1), used in place matrix"
   ]
  },
  {
   "cell_type": "code",
   "execution_count": 10,
   "metadata": {},
   "outputs": [
    {
     "data": {
      "text/plain": [
       "5"
      ]
     },
     "execution_count": 10,
     "metadata": {},
     "output_type": "execute_result"
    }
   ],
   "source": [
    "69%8"
   ]
  },
  {
   "cell_type": "code",
   "execution_count": null,
   "metadata": {},
   "outputs": [],
   "source": []
  }
 ],
 "metadata": {
  "kernelspec": {
   "display_name": "Python 3",
   "language": "python",
   "name": "python3"
  },
  "language_info": {
   "codemirror_mode": {
    "name": "ipython",
    "version": 3
   },
   "file_extension": ".py",
   "mimetype": "text/x-python",
   "name": "python",
   "nbconvert_exporter": "python",
   "pygments_lexer": "ipython3",
   "version": "3.7.7"
  }
 },
 "nbformat": 4,
 "nbformat_minor": 4
}
